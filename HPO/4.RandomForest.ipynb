{
 "cells": [
  {
   "cell_type": "markdown",
   "metadata": {},
   "source": [
    "# Hyper Parameter Optimization For Random Forest"
   ]
  },
  {
   "cell_type": "code",
   "execution_count": null,
   "metadata": {
    "execution": {
     "iopub.execute_input": "2025-03-31T09:42:53.638422Z",
     "iopub.status.busy": "2025-03-31T09:42:53.638026Z",
     "iopub.status.idle": "2025-03-31T09:42:53.949599Z",
     "shell.execute_reply": "2025-03-31T09:42:53.948730Z",
     "shell.execute_reply.started": "2025-03-31T09:42:53.638382Z"
    },
    "gather": {
     "logged": 1742700302676
    },
    "tags": []
   },
   "outputs": [],
   "source": [
    "# import libraries\n",
    "import os\n",
    "import sys\n",
    "import numpy as np\n",
    "import pandas as pd\n",
    "# Set random seed for reproducibility\n",
    "RANDOM_SEED = 42\n",
    "np.random.seed(RANDOM_SEED)\n",
    "MODEL_NAME = 'RandomForest'"
   ]
  },
  {
   "cell_type": "code",
   "execution_count": null,
   "metadata": {
    "execution": {
     "iopub.execute_input": "2025-03-31T09:42:55.286881Z",
     "iopub.status.busy": "2025-03-31T09:42:55.286614Z",
     "iopub.status.idle": "2025-03-31T09:42:55.292909Z",
     "shell.execute_reply": "2025-03-31T09:42:55.292275Z",
     "shell.execute_reply.started": "2025-03-31T09:42:55.286862Z"
    },
    "gather": {
     "logged": 1742700319246
    },
    "tags": []
   },
   "outputs": [],
   "source": [
    "current_path = os.getcwd()\n",
    "current_path"
   ]
  },
  {
   "cell_type": "code",
   "execution_count": null,
   "metadata": {
    "execution": {
     "iopub.execute_input": "2025-03-31T09:42:56.053541Z",
     "iopub.status.busy": "2025-03-31T09:42:56.053204Z",
     "iopub.status.idle": "2025-03-31T09:42:56.736346Z",
     "shell.execute_reply": "2025-03-31T09:42:56.735775Z",
     "shell.execute_reply.started": "2025-03-31T09:42:56.053507Z"
    },
    "gather": {
     "logged": 1742700325934
    },
    "tags": []
   },
   "outputs": [],
   "source": [
    "# To import the custom module from a specific path\n",
    "sys.path.insert(0, os.path.join(current_path, '../'))\n",
    "# Importing the custom module\n",
    "from Utools.SingleModel import SingleModel"
   ]
  },
  {
   "cell_type": "code",
   "execution_count": null,
   "metadata": {
    "execution": {
     "iopub.execute_input": "2025-03-31T09:42:57.308626Z",
     "iopub.status.busy": "2025-03-31T09:42:57.308311Z",
     "iopub.status.idle": "2025-03-31T09:42:58.209045Z",
     "shell.execute_reply": "2025-03-31T09:42:58.207953Z",
     "shell.execute_reply.started": "2025-03-31T09:42:57.308606Z"
    },
    "gather": {
     "logged": 1742700326668
    },
    "tags": []
   },
   "outputs": [],
   "source": [
    "from sklearn.base import clone\n",
    "from sklearn.ensemble import RandomForestRegressor\n",
    "from sklearn.model_selection import KFold, RandomizedSearchCV, GridSearchCV\n",
    "from sklearn.preprocessing import StandardScaler\n",
    "from sklearn.pipeline import Pipeline"
   ]
  },
  {
   "cell_type": "markdown",
   "metadata": {},
   "source": [
    "## Load Data"
   ]
  },
  {
   "cell_type": "code",
   "execution_count": null,
   "metadata": {
    "execution": {
     "iopub.execute_input": "2025-03-31T09:43:02.024646Z",
     "iopub.status.busy": "2025-03-31T09:43:02.023829Z",
     "iopub.status.idle": "2025-03-31T09:43:02.349253Z",
     "shell.execute_reply": "2025-03-31T09:43:02.348263Z",
     "shell.execute_reply.started": "2025-03-31T09:43:02.024562Z"
    },
    "gather": {
     "logged": 1742700343577
    },
    "tags": []
   },
   "outputs": [],
   "source": [
    "# Load data\n",
    "file_dir = os.path.join(current_path, './Data')\n",
    "# dft data\n",
    "dft_train = pd.read_csv(os.path.join(file_dir, 'train_data', 'mp_train_set.csv'))\n",
    "dft_test = pd.read_csv(os.path.join(file_dir, 'test_data', 'mp_test_set.csv'))\n",
    "# exp data\n",
    "exp_train = pd.read_csv(os.path.join(file_dir, 'train_data', 'exp_train_set.csv'))\n",
    "exp_test = pd.read_csv(os.path.join(file_dir, 'test_data', 'exp_test_set.csv'))\n",
    "# mix test data\n",
    "mix_test = pd.read_csv(os.path.join(file_dir, 'test_data', 'mix_test_set.csv'))\n",
    "\n",
    "dft_train_X = dft_train.drop(columns=['composition', 'band_gap'])\n",
    "dft_train_y = dft_train['band_gap']\n",
    "exp_train_X = exp_train.drop(columns=['composition', 'band_gap'])\n",
    "exp_train_y = exp_train['band_gap']\n",
    "dft_test_X = dft_test.drop(columns=['composition', 'band_gap'])\n",
    "dft_test_y = dft_test['band_gap']\n",
    "exp_test_X = exp_test.drop(columns=['composition', 'band_gap'])\n",
    "exp_test_y = exp_test['band_gap']\n",
    "\n",
    "mix_test = pd.read_csv(os.path.join(file_dir, 'test_data', 'mix_test_set.csv'))\n",
    "mixed_test_X = mix_test.drop(columns=['composition', 'band_gap'])\n",
    "mixed_test_y = mix_test['band_gap']"
   ]
  },
  {
   "cell_type": "markdown",
   "metadata": {},
   "source": [
    "## Model Train"
   ]
  },
  {
   "cell_type": "markdown",
   "metadata": {},
   "source": [
    "### DFT Model"
   ]
  },
  {
   "cell_type": "code",
   "execution_count": null,
   "metadata": {
    "execution": {
     "iopub.execute_input": "2025-03-31T09:43:32.600456Z",
     "iopub.status.busy": "2025-03-31T09:43:32.600194Z"
    },
    "gather": {
     "logged": 1742701773583
    },
    "tags": []
   },
   "outputs": [],
   "source": [
    "# using grid search to find the best hyperparameters for the dft model\n",
    "print(f\"['DFT {MODEL_NAME}'] HP optimazation begin...\")\n",
    "\n",
    "# create an model\n",
    "rf_pipe = Pipeline([\n",
    "    ('scaler', StandardScaler()),  # standardize the data\n",
    "    ('rf', RandomForestRegressor(random_state=RANDOM_SEED, n_jobs=-1))  # random forest model\n",
    "])\n",
    "\n",
    "# define the parameter grid for model(total 360 combinations)\n",
    "# cpu = 60, run_time = 4min\n",
    "param_distributions = {\n",
    "    # general speaking, more n_estimators better performance, more overfitt, in order to speed up the optimization, we choose small n_estimators\n",
    "    'rf__n_estimators': [100, 200],  # number of trees in the forest \n",
    "    'rf__max_depth': [None, 5, 7, 10],  # maximum depth of the tree, None means nodes are expanded until all leaves are pure\n",
    "    'rf__min_samples_split': [2, 6, 10],  # minimum number of samples required to split an internal node\n",
    "    'rf__min_samples_leaf': [1, 2, 4],    # minimum number of samples required to be at a leaf node\n",
    "    'rf__max_features': ['sqrt', 'log2', 0.25, 0.5, 1]  # number of features to consider when looking for the best split, None means all features\n",
    "}\n",
    "\n",
    "# create a KFold object for cross-validation\n",
    "kf = KFold(n_splits=5, shuffle=True, random_state=RANDOM_SEED)\n",
    "\n",
    "# create a GridSearchCV object (n_iter=5, runtime=30s)\n",
    "random_search = RandomizedSearchCV(estimator=rf_pipe, param_distributions=param_distributions,\n",
    "                n_iter=150, cv=kf, verbose=1, random_state=RANDOM_SEED, \n",
    "                scoring='neg_mean_squared_error', return_train_score=True, n_jobs=-1)\n",
    "\n",
    "# fit the model to the training data\n",
    "random_search.fit(dft_train_X, dft_train_y)"
   ]
  },
  {
   "cell_type": "code",
   "execution_count": null,
   "metadata": {
    "gather": {
     "logged": 1742702238764
    }
   },
   "outputs": [],
   "source": [
    "# get the best hyperparameters\n",
    "best_params = random_search.best_params_\n",
    "print(f\"Best Hyperparameters: {best_params}\")\n",
    "best_score = np.sqrt(-random_search.best_score_)\n",
    "print(f\"Best Cross-Validation RMSE: {best_score:.4f}\")\n",
    "\n",
    "# create a DataFrame to store the results\n",
    "results = pd.DataFrame(random_search.cv_results_)\n",
    "results['test_rmse'] = np.sqrt(-results['mean_test_score'])\n",
    "results['train_rmse'] = np.sqrt(-results['mean_train_score'])\n",
    "# sort the results by test RMSE\n",
    "results_sorted = results.sort_values('test_rmse')\n",
    "results_sorted = results_sorted[['rank_test_score', 'param_rf__n_estimators', 'param_rf__max_depth', \n",
    "                                 'param_rf__min_samples_split', 'param_rf__min_samples_leaf', 'param_rf__max_features', 'train_rmse', 'test_rmse']]\n",
    "# save the results to a csv file\n",
    "hp_path = os.path.join(current_path, 'hp_search')\n",
    "os.makedirs(hp_path, exist_ok=True)\n",
    "results_sorted.to_csv(os.path.join(hp_path, 'RF_dft_hp.csv'), index=False)\n",
    "results_sorted.head()"
   ]
  },
  {
   "cell_type": "markdown",
   "metadata": {},
   "source": [
    "### Overfitting check"
   ]
  },
  {
   "cell_type": "code",
   "execution_count": null,
   "metadata": {
    "gather": {
     "logged": 1742702738806
    }
   },
   "outputs": [],
   "source": [
    "# \n",
    "# Train the model with the best hyperparameters on the entire training set\n",
    "# using the best hyperparameters from the random search\n",
    "random_forest_best = RandomForestRegressor(\n",
    "    n_estimators=500,\n",
    "    max_depth=None,\n",
    "    min_samples_split=2,\n",
    "    min_samples_leaf=1,\n",
    "    max_features=0.25,\n",
    "    random_state=RANDOM_SEED,\n",
    "    n_jobs=-1\n",
    ")\n",
    "# record model metrics\n",
    "model_metrics = pd.DataFrame(columns=['Model', 'Error_Type', 'Train_set', 'Test_set', 'R²', 'RMSE', 'MAE'])\n",
    "# Train the model on dft data\n",
    "print(\"#\" * 100)\n",
    "print(f\"[DFT - {MODEL_NAME}] Training {MODEL_NAME} on DFT data:\")\n",
    "print(\"-\" * 100)\n",
    "\n",
    "dft_model = SingleModel(clone(random_forest_best), random_state=RANDOM_SEED)\n",
    "dft_model.train(dft_train_X, dft_train_y)\n",
    "\n",
    "# evaluate on the dft train set\n",
    "print(f\"[Train_error] Evaluating DFT {MODEL_NAME} on DFT train set:\")\n",
    "metrics = dft_model.evaluate(dft_train_X, dft_train_y)\n",
    "model_metrics.loc[len(model_metrics)] = {\n",
    "'Model': MODEL_NAME,\n",
    "'Error_Type': 'Train',\n",
    "'Train_set': 'dft',\n",
    "'Test_set': 'dft',\n",
    "'R²': metrics['r2'],\n",
    "'RMSE': metrics['rmse'],\n",
    "'MAE': metrics['mae']\n",
    "}\n",
    "\n",
    "# evaluate on the dft test set\n",
    "print(f\"[Test DFT -> DFT] Evaluating DFT {MODEL_NAME} on DFT test set:\")\n",
    "\n",
    "metrics = dft_model.evaluate(dft_test_X, dft_test_y)\n",
    "model_metrics.loc[len(model_metrics)] = {\n",
    "'Model': MODEL_NAME,\n",
    "'Error_Type': 'Test',\n",
    "'Train_set': 'dft',\n",
    "'Test_set': 'dft',\n",
    "'R²': metrics['r2'],\n",
    "'RMSE': metrics['rmse'],\n",
    "'MAE': metrics['mae']\n",
    "}\n",
    "# evaluate on the exp test set\n",
    "print(f\"[Test DFT -> EXP] Evaluating DFT {MODEL_NAME} on EXP test set:\")\n",
    "metrics = dft_model.evaluate(exp_test_X, exp_test_y)\n",
    "model_metrics.loc[len(model_metrics)] = {\n",
    "'Model': MODEL_NAME,\n",
    "'Error_Type': 'Test',\n",
    "'Train_set': 'dft',\n",
    "'Test_set': 'exp',\n",
    "'R²': metrics['r2'],\n",
    "'RMSE': metrics['rmse'],\n",
    "'MAE': metrics['mae']\n",
    "}"
   ]
  },
  {
   "cell_type": "code",
   "execution_count": null,
   "metadata": {
    "gather": {
     "logged": 1742702743275
    }
   },
   "outputs": [],
   "source": [
    "model_metrics.head()"
   ]
  },
  {
   "cell_type": "markdown",
   "metadata": {},
   "source": [
    "### EXP Model"
   ]
  },
  {
   "cell_type": "code",
   "execution_count": null,
   "metadata": {
    "gather": {
     "logged": 1742702925996
    }
   },
   "outputs": [],
   "source": [
    "# using grid search to find the best hyperparameters for the dft model\n",
    "print(f\"['EXP {MODEL_NAME}'] HP optimazation begin...\")\n",
    "# create an model\n",
    "rf_pipe = Pipeline([\n",
    "    ('scaler', StandardScaler()),  # standardize the data\n",
    "    ('rf', RandomForestRegressor(random_state=RANDOM_SEED, n_jobs=-1))  # random forest model\n",
    "])\n",
    "# define the parameter grid for model(total 480 combinations)\n",
    "param_distributions = {\n",
    "    'rf__n_estimators': [300, 500],  # number of trees in the forest\n",
    "    'rf__max_depth': [None, 5, 7, 10],  # maximum depth of the tree, None means nodes are expanded until all leaves are pure\n",
    "    'rf__min_samples_split': [2, 4, 6],  # minimum number of samples required to split an internal node\n",
    "    'rf__min_samples_leaf': [1, 2, 3, 4],    # minimum number of samples required to be at a leaf node\n",
    "    'rf__max_features': ['sqrt', 'log2', 0.25, 0.5, 1]  # number of features to consider when looking for the best split, None means all features\n",
    "}\n",
    "\n",
    "# create a KFold object for cross-validation\n",
    "kf = KFold(n_splits=5, shuffle=True, random_state=RANDOM_SEED)\n",
    "\n",
    "# create a GridSearchCV object\n",
    "grid_search = GridSearchCV(estimator=rf_pipe, param_grid=param_distributions,\n",
    "                cv=kf, verbose=1, \n",
    "                scoring='neg_mean_squared_error', return_train_score=True,  n_jobs=-1)\n",
    "\n",
    "# fit the model to the training data\n",
    "grid_search.fit(exp_train_X, exp_train_y)"
   ]
  },
  {
   "cell_type": "code",
   "execution_count": null,
   "metadata": {
    "gather": {
     "logged": 1742702934079
    }
   },
   "outputs": [],
   "source": [
    "# get the best hyperparameters\n",
    "best_params = grid_search.best_params_\n",
    "print(f\"Best Hyperparameters: {best_params}\")\n",
    "best_score = np.sqrt(-grid_search.best_score_)\n",
    "print(f\"Best Cross-Validation RMSE: {best_score:.4f}\")\n",
    "\n",
    "# create a DataFrame to store the results\n",
    "results = pd.DataFrame(grid_search.cv_results_)\n",
    "results['test_rmse'] = np.sqrt(-results['mean_test_score'])\n",
    "results['train_rmse'] = np.sqrt(-results['mean_train_score'])\n",
    "# sort the results by test RMSE\n",
    "results_sorted = results.sort_values('test_rmse')\n",
    "results_sorted = results_sorted[['rank_test_score', 'param_rf__n_estimators', 'param_rf__max_depth', \n",
    "                                 'param_rf__min_samples_split', 'param_rf__min_samples_leaf', 'param_rf__max_features', 'train_rmse', 'test_rmse']]\n",
    "# save the results to a csv file\n",
    "hp_path = os.path.join(current_path, 'hp_search')\n",
    "os.makedirs(hp_path, exist_ok=True)\n",
    "results_sorted.to_csv(os.path.join(hp_path, 'RF_exp_hp.csv'), index=False)\n",
    "results_sorted.head()"
   ]
  },
  {
   "cell_type": "markdown",
   "metadata": {},
   "source": [
    "### Overfitting check"
   ]
  },
  {
   "cell_type": "code",
   "execution_count": null,
   "metadata": {
    "gather": {
     "logged": 1742703150102
    }
   },
   "outputs": [],
   "source": [
    "# \n",
    "# Train the model with the best hyperparameters on the entire training set\n",
    "# using the best hyperparameters from the random search\n",
    "random_forest_best = RandomForestRegressor(\n",
    "    n_estimators=300,\n",
    "    max_depth=None,\n",
    "    min_samples_split=2,\n",
    "    min_samples_leaf=1,\n",
    "    max_features=0.5,\n",
    "    random_state=RANDOM_SEED,\n",
    "    n_jobs=-1\n",
    ")\n",
    "# record model metrics\n",
    "model_metrics = pd.DataFrame(columns=['Model', 'Error_Type', 'Train_set', 'Test_set', 'R²', 'RMSE', 'MAE'])\n",
    "# Train the model on dft data\n",
    "print(\"#\" * 100)\n",
    "print(f\"[EXP - {MODEL_NAME}] Training {MODEL_NAME} on EXP data:\")\n",
    "print(\"-\" * 100)\n",
    "\n",
    "exp_model = SingleModel(clone(random_forest_best), random_state=RANDOM_SEED)\n",
    "exp_model.train(exp_train_X, exp_train_y)\n",
    "\n",
    "# evaluate on the dft train set\n",
    "print(f\"[Train_error] Evaluating EXP {MODEL_NAME} on EXP train set:\")\n",
    "metrics = exp_model.evaluate(exp_train_X, exp_train_y)\n",
    "model_metrics.loc[len(model_metrics)] = {\n",
    "'Model': MODEL_NAME,\n",
    "'Error_Type': 'Train',\n",
    "'Train_set': 'exp',\n",
    "'Test_set': 'exp',\n",
    "'R²': metrics['r2'],\n",
    "'RMSE': metrics['rmse'],\n",
    "'MAE': metrics['mae']\n",
    "}\n",
    "\n",
    "# evaluate on the dft test set\n",
    "print(f\"[Test EXP -> EXP] Evaluating EXP {MODEL_NAME} on EXP test set:\")\n",
    "\n",
    "metrics = exp_model.evaluate(exp_test_X, exp_test_y)\n",
    "model_metrics.loc[len(model_metrics)] = {\n",
    "'Model': MODEL_NAME,\n",
    "'Error_Type': 'Test',\n",
    "'Train_set': 'exp',\n",
    "'Test_set': 'exp',\n",
    "'R²': metrics['r2'],\n",
    "'RMSE': metrics['rmse'],\n",
    "'MAE': metrics['mae']\n",
    "}\n",
    "# evaluate on the exp test set\n",
    "print(f\"[Test EXP -> DFT] Evaluating EXP {MODEL_NAME} on DFT test set:\")\n",
    "metrics = exp_model.evaluate(dft_test_X, dft_test_y)\n",
    "model_metrics.loc[len(model_metrics)] = {\n",
    "'Model': MODEL_NAME,\n",
    "'Error_Type': 'Test',\n",
    "'Train_set': 'exp',\n",
    "'Test_set': 'dft',\n",
    "'R²': metrics['r2'],\n",
    "'RMSE': metrics['rmse'],\n",
    "'MAE': metrics['mae']\n",
    "}"
   ]
  },
  {
   "cell_type": "code",
   "execution_count": null,
   "metadata": {
    "gather": {
     "logged": 1742703154373
    }
   },
   "outputs": [],
   "source": [
    "model_metrics.head()"
   ]
  },
  {
   "cell_type": "code",
   "execution_count": null,
   "metadata": {},
   "outputs": [],
   "source": []
  }
 ],
 "metadata": {
  "kernel_info": {
   "name": "python38-azureml"
  },
  "kernelspec": {
   "display_name": "Python 3",
   "language": "python",
   "name": "python3"
  },
  "language_info": {
   "codemirror_mode": {
    "name": "ipython",
    "version": 3
   },
   "file_extension": ".py",
   "mimetype": "text/x-python",
   "name": "python",
   "nbconvert_exporter": "python",
   "pygments_lexer": "ipython3",
   "version": "3.10.12"
  },
  "nteract": {
   "version": "nteract-front-end@1.0.0"
  }
 },
 "nbformat": 4,
 "nbformat_minor": 4
}
