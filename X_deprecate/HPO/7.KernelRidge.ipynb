{
 "cells": [
  {
   "cell_type": "markdown",
   "metadata": {},
   "source": [
    "# Hyper Parameter Optimization for Kernel Ridge"
   ]
  },
  {
   "cell_type": "code",
   "execution_count": null,
   "metadata": {},
   "outputs": [],
   "source": [
    "# import libraries\n",
    "import os\n",
    "import sys\n",
    "import numpy as np\n",
    "import pandas as pd\n",
    "# Set random seed for reproducibility\n",
    "RANDOM_SEED = 42\n",
    "np.random.seed(RANDOM_SEED)\n",
    "MODEL_NAME = 'KernelRidge'"
   ]
  },
  {
   "cell_type": "code",
   "execution_count": null,
   "metadata": {},
   "outputs": [],
   "source": [
    "current_path = os.getcwd()\n",
    "current_path"
   ]
  },
  {
   "cell_type": "code",
   "execution_count": null,
   "metadata": {},
   "outputs": [],
   "source": [
    "# To import the custom module from a specific path\n",
    "sys.path.insert(0, os.path.join(current_path, '../'))\n",
    "# Importing the custom module\n",
    "from Utools.SingleModel import SingleModel"
   ]
  },
  {
   "cell_type": "code",
   "execution_count": null,
   "metadata": {},
   "outputs": [],
   "source": [
    "from sklearn.base import clone\n",
    "from sklearn.kernel_approximation import Nystroem\n",
    "from sklearn.linear_model import Ridge\n",
    "from sklearn.model_selection import GridSearchCV, KFold\n",
    "from sklearn.preprocessing import StandardScaler\n",
    "from sklearn.pipeline import Pipeline  "
   ]
  },
  {
   "cell_type": "markdown",
   "metadata": {},
   "source": [
    "## Load Data"
   ]
  },
  {
   "cell_type": "code",
   "execution_count": null,
   "metadata": {},
   "outputs": [],
   "source": [
    "# Load data\n",
    "file_dir = os.path.join(current_path, '../Data')\n",
    "# dft data\n",
    "dft_train = pd.read_csv(os.path.join(file_dir, 'train_data', 'mp_train_set.csv'))\n",
    "dft_test = pd.read_csv(os.path.join(file_dir, 'test_data', 'mp_test_set.csv'))\n",
    "# exp data\n",
    "exp_train = pd.read_csv(os.path.join(file_dir, 'train_data', 'exp_train_set.csv'))\n",
    "exp_test = pd.read_csv(os.path.join(file_dir, 'test_data', 'exp_test_set.csv'))\n",
    "# mix test data\n",
    "mix_test = pd.read_csv(os.path.join(file_dir, 'test_data', 'mix_test_set.csv'))\n",
    "\n",
    "dft_train_X = dft_train.drop(columns=['composition', 'band_gap'])\n",
    "dft_train_y = dft_train['band_gap']\n",
    "exp_train_X = exp_train.drop(columns=['composition', 'band_gap'])\n",
    "exp_train_y = exp_train['band_gap']\n",
    "dft_test_X = dft_test.drop(columns=['composition', 'band_gap'])\n",
    "dft_test_y = dft_test['band_gap']\n",
    "exp_test_X = exp_test.drop(columns=['composition', 'band_gap'])\n",
    "exp_test_y = exp_test['band_gap']\n",
    "\n",
    "mix_test = pd.read_csv(os.path.join(file_dir, 'test_data', 'mix_test_set.csv'))\n",
    "mixed_test_X = mix_test.drop(columns=['composition', 'band_gap'])\n",
    "mixed_test_y = mix_test['band_gap']"
   ]
  },
  {
   "cell_type": "markdown",
   "metadata": {},
   "source": [
    "## Model Train"
   ]
  },
  {
   "cell_type": "markdown",
   "metadata": {},
   "source": [
    "### DFT Model"
   ]
  },
  {
   "cell_type": "code",
   "execution_count": null,
   "metadata": {},
   "outputs": [],
   "source": [
    "# using grid search to find the best hyperparameters for the dft model\n",
    "print(f\"['DFT {MODEL_NAME}'] HP optimazation begin...\")\n",
    "# create a pipeline with standard scaler and ElasticNet\n",
    "kernel_ridge_pipe = Pipeline([\n",
    "    ('scaler', StandardScaler()),\n",
    "    ('nystroem', Nystroem(kernel='rbf',  random_state=RANDOM_SEED, n_jobs=-1)),\n",
    "    ('ridge', Ridge(alpha=1.0))\n",
    "])\n",
    "# define the parameter grid for ElasticNet \n",
    "param_grid = {\n",
    "    'nystroem__n_components': np.arange(1000, 11000, 1000),\n",
    "    'ridge__alpha': np.arange(0, 1.05, 0.05)\n",
    "}\n",
    "\n",
    "# create a KFold object for cross-validation\n",
    "kf = KFold(n_splits=5, shuffle=True, random_state=RANDOM_SEED)\n",
    "\n",
    "# create a GridSearchCV object\n",
    "grid_search = GridSearchCV(\n",
    "    estimator=kernel_ridge_pipe, \n",
    "    param_grid=param_grid, \n",
    "    scoring='neg_mean_squared_error', \n",
    "    cv=kf, \n",
    "    n_jobs=-1, \n",
    "    verbose=1,\n",
    "    return_train_score=True)\n",
    "\n",
    "# fit the model to the training data\n",
    "grid_search.fit(dft_train_X, dft_train_y)"
   ]
  },
  {
   "cell_type": "markdown",
   "metadata": {},
   "source": [
    "**The hp search time is long, so we just use the best alpha from the exp grid search.**\n",
    "**And we just use the nystroem__n_components=8000 for the dft model.**"
   ]
  },
  {
   "cell_type": "code",
   "execution_count": null,
   "metadata": {},
   "outputs": [],
   "source": [
    "# get the best hyperparameters\n",
    "best_params = grid_search.best_params_\n",
    "print(f\"Best Hyperparameters: {best_params}\")\n",
    "best_score = np.sqrt(-grid_search.best_score_)\n",
    "print(f\"Best Cross-Validation RMSE: {best_score:.4f}\")\n",
    "\n",
    "# create a DataFrame to store the results\n",
    "results = pd.DataFrame(grid_search.cv_results_)\n",
    "results['test_rmse'] = np.sqrt(-results['mean_test_score'])\n",
    "results['train_rmse'] = np.sqrt(-results['mean_train_score'])\n",
    "# sort the results by test RMSE\n",
    "results_sorted = results.sort_values('test_rmse')\n",
    "results_sorted = results_sorted[['rank_test_score', 'param_ridge__alpha', 'param_nystroem__n_components',\n",
    "                                 'train_rmse', 'test_rmse']]\n",
    "\n",
    "# save the results to a csv file\n",
    "hp_path = os.path.join(current_path, 'hp_search')\n",
    "os.makedirs(hp_path, exist_ok=True)\n",
    "results_sorted.to_csv(os.path.join(hp_path, 'KR_dft_hp.csv'), index=False)\n",
    "results_sorted.head()"
   ]
  },
  {
   "cell_type": "markdown",
   "metadata": {},
   "source": [
    "### Overfitting check"
   ]
  },
  {
   "cell_type": "code",
   "execution_count": null,
   "metadata": {},
   "outputs": [],
   "source": [
    "# \n",
    "# Train the model with the best hyperparameters on the entire training set\n",
    "kernel_ridge_best = Pipeline([\n",
    "    ('nystroem', Nystroem(kernel='rbf',  n_components=8000, random_state=RANDOM_SEED, n_jobs=-1)),\n",
    "    ('ridge', Ridge(alpha=1.0))])\n",
    "# record model metrics\n",
    "model_metrics = pd.DataFrame(columns=['Model', 'Error_Type', 'Train_set', 'Test_set', 'R²', 'RMSE', 'MAE'])\n",
    "# Train the model on dft data\n",
    "print(\"#\" * 100)\n",
    "print(f\"[DFT - {MODEL_NAME}] Training {MODEL_NAME} on DFT data:\")\n",
    "print(\"-\" * 100)\n",
    "\n",
    "dft_model = SingleModel(clone(kernel_ridge_best), random_state=RANDOM_SEED)\n",
    "dft_model.train(dft_train_X, dft_train_y)\n",
    "\n",
    "# evaluate on the dft train set\n",
    "print(f\"[Train_error] Evaluating DFT {MODEL_NAME} on DFT train set:\")\n",
    "metrics = dft_model.evaluate(dft_train_X, dft_train_y)\n",
    "model_metrics.loc[len(model_metrics)] = {\n",
    "'Model': MODEL_NAME,\n",
    "'Error_Type': 'Train',\n",
    "'Train_set': 'dft',\n",
    "'Test_set': 'dft',\n",
    "'R²': metrics['r2'],\n",
    "'RMSE': metrics['rmse'],\n",
    "'MAE': metrics['mae']\n",
    "}\n",
    "\n",
    "# evaluate on the dft test set\n",
    "print(f\"[Test DFT -> DFT] Evaluating DFT {MODEL_NAME} on DFT test set:\")\n",
    "\n",
    "metrics = dft_model.evaluate(dft_test_X, dft_test_y)\n",
    "model_metrics.loc[len(model_metrics)] = {\n",
    "'Model': MODEL_NAME,\n",
    "'Error_Type': 'Test',\n",
    "'Train_set': 'dft',\n",
    "'Test_set': 'dft',\n",
    "'R²': metrics['r2'],\n",
    "'RMSE': metrics['rmse'],\n",
    "'MAE': metrics['mae']\n",
    "}\n",
    "# evaluate on the exp test set\n",
    "print(f\"[Test DFT -> EXP] Evaluating DFT {MODEL_NAME} on EXP test set:\")\n",
    "metrics = dft_model.evaluate(exp_test_X, exp_test_y)\n",
    "model_metrics.loc[len(model_metrics)] = {\n",
    "'Model': MODEL_NAME,\n",
    "'Error_Type': 'Test',\n",
    "'Train_set': 'dft',\n",
    "'Test_set': 'exp',\n",
    "'R²': metrics['r2'],\n",
    "'RMSE': metrics['rmse'],\n",
    "'MAE': metrics['mae']\n",
    "}"
   ]
  },
  {
   "cell_type": "code",
   "execution_count": null,
   "metadata": {},
   "outputs": [],
   "source": [
    "model_metrics.head()"
   ]
  },
  {
   "cell_type": "markdown",
   "metadata": {},
   "source": [
    "### EXP Model"
   ]
  },
  {
   "cell_type": "code",
   "execution_count": null,
   "metadata": {},
   "outputs": [],
   "source": [
    "# using grid search to find the best hyperparameters for the dft model\n",
    "print(f\"['EXP {MODEL_NAME}'] HP optimazation begin...\")\n",
    "# create a pipeline with standard scaler and ElasticNet\n",
    "kernel_ridge_pipe = Pipeline([\n",
    "    ('scaler', StandardScaler()),\n",
    "    ('nystroem', Nystroem(kernel='rbf', random_state=RANDOM_SEED, n_jobs=-1)),\n",
    "    ('ridge', Ridge(alpha=1.0))\n",
    "])\n",
    "# define the parameter grid for ElasticNet \n",
    "param_grid = {\n",
    "    'nystroem__n_components': np.arange(200, 2600, 200),\n",
    "    'ridge__alpha': np.arange(0.05, 1.05, 0.05)\n",
    "}\n",
    "\n",
    "# create a KFold object for cross-validation\n",
    "kf = KFold(n_splits=5, shuffle=True, random_state=RANDOM_SEED)\n",
    "# create a GridSearchCV object\n",
    "grid_search = GridSearchCV(\n",
    "    estimator=kernel_ridge_pipe, \n",
    "    param_grid=param_grid, \n",
    "    scoring='neg_mean_squared_error', \n",
    "    cv=kf, \n",
    "    n_jobs=-1, \n",
    "    verbose=1,\n",
    "    return_train_score=True)\n",
    "\n",
    "# fit the model to the training data\n",
    "grid_search.fit(exp_train_X, exp_train_y)"
   ]
  },
  {
   "cell_type": "code",
   "execution_count": null,
   "metadata": {},
   "outputs": [],
   "source": [
    "# get the best hyperparameters\n",
    "best_params = grid_search.best_params_\n",
    "print(f\"Best Hyperparameters: {best_params}\")\n",
    "best_score = np.sqrt(-grid_search.best_score_)\n",
    "print(f\"Best Cross-Validation RMSE: {best_score:.4f}\")\n",
    "\n",
    "# create a DataFrame to store the results\n",
    "results = pd.DataFrame(grid_search.cv_results_)\n",
    "results['test_rmse'] = np.sqrt(-results['mean_test_score'])\n",
    "results['train_rmse'] = np.sqrt(-results['mean_train_score'])\n",
    "# sort the results by test RMSE\n",
    "results_sorted = results.sort_values('test_rmse')\n",
    "results_sorted = results_sorted[['rank_test_score', 'param_ridge__alpha', \n",
    "                                 'param_nystroem__n_components', 'train_rmse', 'test_rmse']]\n",
    "\n",
    "# save the results to a csv file\n",
    "hp_path = os.path.join(current_path, 'hp_search')\n",
    "os.makedirs(hp_path, exist_ok=True)\n",
    "results_sorted.to_csv(os.path.join(hp_path, 'KR_exp_hp.csv'), index=False)\n",
    "results_sorted.head()"
   ]
  },
  {
   "cell_type": "markdown",
   "metadata": {},
   "source": [
    "### Overfitting check"
   ]
  },
  {
   "cell_type": "code",
   "execution_count": null,
   "metadata": {},
   "outputs": [],
   "source": [
    "# \n",
    "# Train the model with the best hyperparameters on the entire training set\n",
    "kernel_ridge_best = Pipeline([\n",
    "    ('nystroem', Nystroem(kernel='rbf',  n_components=2400, random_state=RANDOM_SEED, n_jobs=-1)),\n",
    "    ('ridge', Ridge(alpha=0.05))])\n",
    "# record model metrics\n",
    "model_metrics = pd.DataFrame(columns=['Model', 'Error_Type', 'Train_set', 'Test_set', 'R²', 'RMSE', 'MAE'])\n",
    "# Train the model on dft data\n",
    "print(\"#\" * 100)\n",
    "print(f\"[EXP - {MODEL_NAME}] Training {MODEL_NAME} on EXP data:\")\n",
    "print(\"-\" * 100)\n",
    "\n",
    "exp_model = SingleModel(clone(kernel_ridge_best), random_state=RANDOM_SEED)\n",
    "exp_model.train(exp_train_X, exp_train_y)\n",
    "\n",
    "# evaluate on the dft train set\n",
    "print(f\"[Train_error] Evaluating EXP {MODEL_NAME} on EXP train set:\")\n",
    "metrics = exp_model.evaluate(exp_train_X, exp_train_y)\n",
    "model_metrics.loc[len(model_metrics)] = {\n",
    "'Model': MODEL_NAME,\n",
    "'Error_Type': 'Train',\n",
    "'Train_set': 'exp',\n",
    "'Test_set': 'exp',\n",
    "'R²': metrics['r2'],\n",
    "'RMSE': metrics['rmse'],\n",
    "'MAE': metrics['mae']\n",
    "}\n",
    "\n",
    "# evaluate on the dft test set\n",
    "print(f\"[Test EXP -> EXP] Evaluating EXP {MODEL_NAME} on EXP test set:\")\n",
    "\n",
    "metrics = exp_model.evaluate(exp_test_X, exp_test_y)\n",
    "model_metrics.loc[len(model_metrics)] = {\n",
    "'Model': MODEL_NAME,\n",
    "'Error_Type': 'Test',\n",
    "'Train_set': 'exp',\n",
    "'Test_set': 'exp',\n",
    "'R²': metrics['r2'],\n",
    "'RMSE': metrics['rmse'],\n",
    "'MAE': metrics['mae']\n",
    "}\n",
    "# evaluate on the exp test set\n",
    "print(f\"[Test EXP -> DFT] Evaluating EXP {MODEL_NAME} on DFT test set:\")\n",
    "metrics = exp_model.evaluate(dft_test_X, dft_test_y)\n",
    "model_metrics.loc[len(model_metrics)] = {\n",
    "'Model': MODEL_NAME,\n",
    "'Error_Type': 'Test',\n",
    "'Train_set': 'exp',\n",
    "'Test_set': 'dft',\n",
    "'R²': metrics['r2'],\n",
    "'RMSE': metrics['rmse'],\n",
    "'MAE': metrics['mae']\n",
    "}"
   ]
  },
  {
   "cell_type": "code",
   "execution_count": null,
   "metadata": {},
   "outputs": [],
   "source": [
    "model_metrics.head()"
   ]
  },
  {
   "cell_type": "code",
   "execution_count": null,
   "metadata": {},
   "outputs": [],
   "source": []
  }
 ],
 "metadata": {
  "kernelspec": {
   "display_name": "Python 3",
   "language": "python",
   "name": "python3"
  },
  "language_info": {
   "codemirror_mode": {
    "name": "ipython",
    "version": 3
   },
   "file_extension": ".py",
   "mimetype": "text/x-python",
   "name": "python",
   "nbconvert_exporter": "python",
   "pygments_lexer": "ipython3",
   "version": "3.10.12"
  }
 },
 "nbformat": 4,
 "nbformat_minor": 2
}
