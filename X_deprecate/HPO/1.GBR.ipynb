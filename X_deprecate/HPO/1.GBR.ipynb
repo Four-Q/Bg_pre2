{
  "cells": [
    {
      "cell_type": "markdown",
      "metadata": {},
      "source": [
        "# Hyper Parameter Optimization For GradientBoostingRegression"
      ]
    },
    {
      "cell_type": "code",
      "execution_count": null,
      "metadata": {
        "gather": {
          "logged": 1742705172817
        }
      },
      "outputs": [],
      "source": [
        "# import libraries\n",
        "import os\n",
        "import sys\n",
        "import numpy as np\n",
        "import pandas as pd\n",
        "# Set random seed for reproducibility\n",
        "RANDOM_SEED = 42\n",
        "np.random.seed(RANDOM_SEED)\n",
        "MODEL_NAME = 'GBR'"
      ]
    },
    {
      "cell_type": "code",
      "execution_count": null,
      "metadata": {
        "gather": {
          "logged": 1742705219301
        }
      },
      "outputs": [],
      "source": [
        "current_path = os.getcwd()\n",
        "current_path"
      ]
    },
    {
      "cell_type": "code",
      "execution_count": null,
      "metadata": {
        "gather": {
          "logged": 1742705220814
        }
      },
      "outputs": [],
      "source": [
        "# To import the custom module from a specific path\n",
        "sys.path.insert(0, os.path.join(current_path, '../'))\n",
        "# Importing the custom module\n",
        "from Utools.SingleModel import SingleModel"
      ]
    },
    {
      "cell_type": "code",
      "execution_count": null,
      "metadata": {
        "gather": {
          "logged": 1742705220919
        }
      },
      "outputs": [],
      "source": [
        "from sklearn.base import clone\n",
        "from sklearn.ensemble import GradientBoostingRegressor\n",
        "from sklearn.model_selection import KFold, RandomizedSearchCV, GridSearchCV\n",
        "from sklearn.preprocessing import StandardScaler\n",
        "from sklearn.pipeline import Pipeline"
      ]
    },
    {
      "cell_type": "markdown",
      "metadata": {},
      "source": [
        "## Load Data"
      ]
    },
    {
      "cell_type": "code",
      "execution_count": null,
      "metadata": {
        "gather": {
          "logged": 1742705222813
        }
      },
      "outputs": [],
      "source": [
        "# Load data\n",
        "file_dir = os.path.join(current_path, '../Data')\n",
        "# dft data\n",
        "dft_train = pd.read_csv(os.path.join(file_dir, 'train_data', 'mp_train_set.csv'))\n",
        "dft_test = pd.read_csv(os.path.join(file_dir, 'test_data', 'mp_test_set.csv'))\n",
        "# exp data\n",
        "exp_train = pd.read_csv(os.path.join(file_dir, 'train_data', 'exp_train_set.csv'))\n",
        "exp_test = pd.read_csv(os.path.join(file_dir, 'test_data', 'exp_test_set.csv'))\n",
        "# mix test data\n",
        "mix_test = pd.read_csv(os.path.join(file_dir, 'test_data', 'mix_test_set.csv'))\n",
        "\n",
        "dft_train_X = dft_train.drop(columns=['composition', 'band_gap'])\n",
        "dft_train_y = dft_train['band_gap']\n",
        "exp_train_X = exp_train.drop(columns=['composition', 'band_gap'])\n",
        "exp_train_y = exp_train['band_gap']\n",
        "dft_test_X = dft_test.drop(columns=['composition', 'band_gap'])\n",
        "dft_test_y = dft_test['band_gap']\n",
        "exp_test_X = exp_test.drop(columns=['composition', 'band_gap'])\n",
        "exp_test_y = exp_test['band_gap']\n",
        "\n",
        "mix_test = pd.read_csv(os.path.join(file_dir, 'test_data', 'mix_test_set.csv'))\n",
        "mixed_test_X = mix_test.drop(columns=['composition', 'band_gap'])\n",
        "mixed_test_y = mix_test['band_gap']"
      ]
    },
    {
      "cell_type": "markdown",
      "metadata": {},
      "source": [
        "## Model Train"
      ]
    },
    {
      "cell_type": "markdown",
      "metadata": {},
      "source": [
        "### DFT Model"
      ]
    },
    {
      "cell_type": "code",
      "execution_count": null,
      "metadata": {
        "gather": {
          "logged": 1742709810842
        }
      },
      "outputs": [],
      "source": [
        "# using random search to find the best hyperparameters for the dft model\n",
        "print(f\"['DFT {MODEL_NAME}'] HP optimization begin...\")\n",
        "\n",
        "# create a pipeline with a scaler and the model\n",
        "gbr_pipe = Pipeline([\n",
        "    ('scaler', StandardScaler()),\n",
        "    ('gbr', GradientBoostingRegressor(random_state=RANDOM_SEED))\n",
        "])\n",
        "\n",
        "# define the parameter distributions  for the KNN model(total 675 combinations)\n",
        "param_distributions = {\n",
        "    'gbr__n_estimators': [100, 200, 500],\n",
        "    'gbr__learning_rate': [0.01, 0.05, 0.1],\n",
        "    'gbr__max_depth': [3, 4, 5, 7, 10],\n",
        "    'gbr__max_features': ['sqrt', 'log2', 0.25, 0.5, 1],\n",
        "    'gbr__subsample': [0.5, 0.75, 1],\n",
        "}\n",
        "# create a KFold object for cross-validation\n",
        "kf = KFold(n_splits=5, shuffle=True, random_state=RANDOM_SEED)\n",
        "\n",
        "# create a randomized search CV object\n",
        "# using n_iter=50 for a faster search, you can increase this for better results(n_iter=5, runtime=30s)\n",
        "# forget to assign metrics score, the default is R2 score\n",
        "random_search = RandomizedSearchCV(estimator=gbr_pipe, param_distributions=param_distributions,\n",
        "                n_iter=5, cv=kf, verbose=1, random_state=RANDOM_SEED, \n",
        "                scoring='neg_mean_squared_error', return_train_score=True,  n_jobs=-1)\n",
        "\n",
        "# fit the model to the training data\n",
        "random_search.fit(dft_train_X, dft_train_y)"
      ]
    },
    {
      "cell_type": "code",
      "execution_count": null,
      "metadata": {
        "gather": {
          "logged": 1742711339235
        }
      },
      "outputs": [],
      "source": [
        "# get the best hyperparameters\n",
        "best_params = random_search.best_params_\n",
        "print(f\"Best Hyperparameters: {best_params}\")\n",
        "best_score = np.sqrt(-random_search.best_score_)\n",
        "print(f\"Best Cross-Validation RMSE: {best_score:.4f}\")\n",
        "\n",
        "# create a DataFrame to store the results\n",
        "results = pd.DataFrame(random_search.cv_results_)\n",
        "results['test_rmse'] = np.sqrt(-results['mean_test_score'])\n",
        "results['train_rmse'] = np.sqrt(-results['mean_train_score'])\n",
        "# sort the results by test RMSE\n",
        "results_sorted = results.sort_values('test_rmse')\n",
        "results_sorted = results_sorted[['rank_test_score', 'param_gbr__n_estimators', 'param_gbr__max_depth', \n",
        "                                 'param_gbr__learning_rate', 'param_gbr__max_features', 'param_gbr__subsample', 'train_rmse', 'test_rmse']]\n",
        "# save the results to a csv file\n",
        "hp_path = os.path.join(current_path, 'hp_search')\n",
        "os.makedirs(hp_path, exist_ok=True)\n",
        "results_sorted.to_csv(os.path.join(hp_path, 'GBR_dft_hp.csv'), index=False)\n",
        "results_sorted.head()"
      ]
    },
    {
      "cell_type": "markdown",
      "metadata": {},
      "source": [
        "### Overfitting check"
      ]
    },
    {
      "cell_type": "code",
      "execution_count": null,
      "metadata": {
        "gather": {
          "logged": 1742711611060
        }
      },
      "outputs": [],
      "source": [
        "# \n",
        "# Train the model with the best hyperparameters on the entire training set\n",
        "# using the best hyperparameters from the random search\n",
        "gbr_best = GradientBoostingRegressor(\n",
        "    n_estimators=500,\n",
        "    learning_rate=0.05,\n",
        "    max_depth=10,\n",
        "    max_features=0.25,\n",
        "    subsample=1.0,\n",
        "    random_state=RANDOM_SEED\n",
        ")\n",
        "# record model metrics\n",
        "model_metrics = pd.DataFrame(columns=['Model', 'Error_Type', 'Train_set', 'Test_set', 'R²', 'RMSE', 'MAE'])\n",
        "# Train the model on dft data\n",
        "print(\"#\" * 100)\n",
        "print(f\"[DFT - {MODEL_NAME}] Training {MODEL_NAME} on DFT data:\")\n",
        "print(\"-\" * 100)\n",
        "\n",
        "dft_model = SingleModel(clone(gbr_best), random_state=RANDOM_SEED)\n",
        "dft_model.train(dft_train_X, dft_train_y)\n",
        "\n",
        "# evaluate on the dft train set\n",
        "print(f\"[Train_error] Evaluating DFT {MODEL_NAME} on DFT train set:\")\n",
        "metrics = dft_model.evaluate(dft_train_X, dft_train_y)\n",
        "model_metrics.loc[len(model_metrics)] = {\n",
        "'Model': MODEL_NAME,\n",
        "'Error_Type': 'Train',\n",
        "'Train_set': 'dft',\n",
        "'Test_set': 'dft',\n",
        "'R²': metrics['r2'],\n",
        "'RMSE': metrics['rmse'],\n",
        "'MAE': metrics['mae']\n",
        "}\n",
        "\n",
        "# evaluate on the dft test set\n",
        "print(f\"[Test DFT -> DFT] Evaluating DFT {MODEL_NAME} on DFT test set:\")\n",
        "\n",
        "metrics = dft_model.evaluate(dft_test_X, dft_test_y)\n",
        "model_metrics.loc[len(model_metrics)] = {\n",
        "'Model': MODEL_NAME,\n",
        "'Error_Type': 'Test',\n",
        "'Train_set': 'dft',\n",
        "'Test_set': 'dft',\n",
        "'R²': metrics['r2'],\n",
        "'RMSE': metrics['rmse'],\n",
        "'MAE': metrics['mae']\n",
        "}\n",
        "# evaluate on the exp test set\n",
        "print(f\"[Test DFT -> EXP] Evaluating DFT {MODEL_NAME} on EXP test set:\")\n",
        "metrics = dft_model.evaluate(exp_test_X, exp_test_y)\n",
        "model_metrics.loc[len(model_metrics)] = {\n",
        "'Model': MODEL_NAME,\n",
        "'Error_Type': 'Test',\n",
        "'Train_set': 'dft',\n",
        "'Test_set': 'exp',\n",
        "'R²': metrics['r2'],\n",
        "'RMSE': metrics['rmse'],\n",
        "'MAE': metrics['mae']\n",
        "}"
      ]
    },
    {
      "cell_type": "code",
      "execution_count": null,
      "metadata": {
        "gather": {
          "logged": 1742711611192
        }
      },
      "outputs": [],
      "source": [
        "model_metrics.head()"
      ]
    },
    {
      "cell_type": "markdown",
      "metadata": {},
      "source": [
        "### EXP Model"
      ]
    },
    {
      "cell_type": "code",
      "execution_count": null,
      "metadata": {
        "gather": {
          "logged": 1742712128942
        }
      },
      "outputs": [],
      "source": [
        "# using random search to find the best hyperparameters for the dft model\n",
        "print(f\"['EXP {MODEL_NAME}'] HP optimization begin...\")\n",
        "\n",
        "# create a pipeline with a scaler and the model\n",
        "gbr_pipe = Pipeline([\n",
        "    ('scaler', StandardScaler()),\n",
        "    ('gbr', GradientBoostingRegressor(random_state=RANDOM_SEED))\n",
        "])\n",
        "\n",
        "# define the parameter distributions  for the KNN model(total 1350 combinations)\n",
        "# 60cpu, run_time = 13min\n",
        "param_distributions = {\n",
        "    'gbr__n_estimators': [200, 300, 500],\n",
        "    'gbr__learning_rate': [0.05, 0.1, 0.15, 0.2, 0.25],\n",
        "    'gbr__max_depth': [3, 4, 5, 7, 9, 10],\n",
        "    'gbr__max_features': ['sqrt', 'log2', 0.25, 0.5, 1.0],\n",
        "    'gbr__subsample': [0.5, 0.75, 1],\n",
        "}\n",
        "# create a KFold object for cross-validation\n",
        "kf = KFold(n_splits=5, shuffle=True, random_state=RANDOM_SEED)\n",
        "# create a grid search CV object\n",
        "# forget to assign metrics score, the default is R2 score\n",
        "grid_search = GridSearchCV(estimator=gbr_pipe, param_grid=param_distributions,\n",
        "                cv=kf, verbose=1, \n",
        "                scoring='neg_mean_squared_error', return_train_score=True,  n_jobs=-1)\n",
        "\n",
        "# fit the model to the training data\n",
        "grid_search.fit(exp_train_X, exp_train_y)\n"
      ]
    },
    {
      "cell_type": "code",
      "execution_count": null,
      "metadata": {
        "gather": {
          "logged": 1742712147042
        }
      },
      "outputs": [],
      "source": [
        "# get the best hyperparameters\n",
        "best_params = grid_search.best_params_\n",
        "print(f\"Best Hyperparameters: {best_params}\")\n",
        "best_score = np.sqrt(-grid_search.best_score_)\n",
        "print(f\"Best Cross-Validation RMSE: {best_score:.4f}\")\n",
        "\n",
        "# create a DataFrame to store the results\n",
        "results = pd.DataFrame(grid_search.cv_results_)\n",
        "results['test_rmse'] = np.sqrt(-results['mean_test_score'])\n",
        "results['train_rmse'] = np.sqrt(-results['mean_train_score'])\n",
        "# sort the results by test RMSE\n",
        "results_sorted = results.sort_values('test_rmse')\n",
        "results_sorted = results_sorted[['rank_test_score', 'param_gbr__n_estimators', 'param_gbr__max_depth', \n",
        "                                 'param_gbr__learning_rate', 'param_gbr__max_features', 'param_gbr__subsample', 'train_rmse', 'test_rmse']]\n",
        "# save the results to a csv file\n",
        "hp_path = os.path.join(current_path, 'hp_search')\n",
        "os.makedirs(hp_path, exist_ok=True)\n",
        "results_sorted.to_csv(os.path.join(hp_path, 'GBR_exp_hp.csv'), index=False)\n",
        "results_sorted.head()"
      ]
    },
    {
      "cell_type": "markdown",
      "metadata": {},
      "source": [
        "### Overfitting check"
      ]
    },
    {
      "cell_type": "code",
      "execution_count": null,
      "metadata": {
        "gather": {
          "logged": 1742712222205
        }
      },
      "outputs": [],
      "source": [
        "# \n",
        "# Train the model with the best hyperparameters on the entire training set\n",
        "# using the best hyperparameters from the random search\n",
        "gbr_best = GradientBoostingRegressor(\n",
        "    n_estimators=500,\n",
        "    learning_rate=0.05,\n",
        "    max_depth=7,\n",
        "    max_features='sqrt',\n",
        "    subsample=0.5,\n",
        "    random_state=RANDOM_SEED\n",
        ")\n",
        "\n",
        "# record model metrics\n",
        "model_metrics = pd.DataFrame(columns=['Model', 'Error_Type', 'Train_set', 'Test_set', 'R²', 'RMSE', 'MAE'])\n",
        "# Train the model on dft data\n",
        "print(\"#\" * 100)\n",
        "print(f\"[EXP - {MODEL_NAME}] Training {MODEL_NAME} on EXP data:\")\n",
        "print(\"-\" * 100)\n",
        "\n",
        "exp_model = SingleModel(clone(gbr_best), random_state=RANDOM_SEED)\n",
        "exp_model.train(exp_train_X, exp_train_y)\n",
        "\n",
        "# evaluate on the dft train set\n",
        "print(f\"[Train_error] Evaluating EXP {MODEL_NAME} on EXP train set:\")\n",
        "metrics = exp_model.evaluate(exp_train_X, exp_train_y)\n",
        "model_metrics.loc[len(model_metrics)] = {\n",
        "'Model': MODEL_NAME,\n",
        "'Error_Type': 'Train',\n",
        "'Train_set': 'exp',\n",
        "'Test_set': 'exp',\n",
        "'R²': metrics['r2'],\n",
        "'RMSE': metrics['rmse'],\n",
        "'MAE': metrics['mae']\n",
        "}\n",
        "\n",
        "# evaluate on the dft test set\n",
        "print(f\"[Test EXP -> EXP] Evaluating EXP {MODEL_NAME} on EXP test set:\")\n",
        "\n",
        "metrics = exp_model.evaluate(exp_test_X, exp_test_y)\n",
        "model_metrics.loc[len(model_metrics)] = {\n",
        "'Model': MODEL_NAME,\n",
        "'Error_Type': 'Test',\n",
        "'Train_set': 'exp',\n",
        "'Test_set': 'exp',\n",
        "'R²': metrics['r2'],\n",
        "'RMSE': metrics['rmse'],\n",
        "'MAE': metrics['mae']\n",
        "}\n",
        "# evaluate on the exp test set\n",
        "print(f\"[Test EXP -> DFT] Evaluating EXP {MODEL_NAME} on DFT test set:\")\n",
        "metrics = exp_model.evaluate(dft_test_X, dft_test_y)\n",
        "model_metrics.loc[len(model_metrics)] = {\n",
        "'Model': MODEL_NAME,\n",
        "'Error_Type': 'Test',\n",
        "'Train_set': 'exp',\n",
        "'Test_set': 'dft',\n",
        "'R²': metrics['r2'],\n",
        "'RMSE': metrics['rmse'],\n",
        "'MAE': metrics['mae']\n",
        "}"
      ]
    },
    {
      "cell_type": "code",
      "execution_count": null,
      "metadata": {
        "gather": {
          "logged": 1742712224808
        }
      },
      "outputs": [],
      "source": [
        "model_metrics.head()"
      ]
    },
    {
      "cell_type": "code",
      "execution_count": null,
      "metadata": {},
      "outputs": [],
      "source": []
    }
  ],
  "metadata": {
    "kernel_info": {
      "name": "python38-azureml"
    },
    "kernelspec": {
      "display_name": "base",
      "language": "python",
      "name": "python3"
    },
    "language_info": {
      "codemirror_mode": {
        "name": "ipython",
        "version": 3
      },
      "file_extension": ".py",
      "mimetype": "text/x-python",
      "name": "python",
      "nbconvert_exporter": "python",
      "pygments_lexer": "ipython3",
      "version": "3.11.11"
    },
    "nteract": {
      "version": "nteract-front-end@1.0.0"
    }
  },
  "nbformat": 4,
  "nbformat_minor": 2
}
